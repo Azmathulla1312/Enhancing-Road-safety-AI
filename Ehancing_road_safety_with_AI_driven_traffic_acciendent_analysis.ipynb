{
  "nbformat": 4,
  "nbformat_minor": 0,
  "metadata": {
    "colab": {
      "provenance": [],
      "authorship_tag": "ABX9TyPjFVU9529pNfQrvhnkLZxb",
      "include_colab_link": true
    },
    "kernelspec": {
      "name": "python3",
      "display_name": "Python 3"
    },
    "language_info": {
      "name": "python"
    }
  },
  "cells": [
    {
      "cell_type": "markdown",
      "metadata": {
        "id": "view-in-github",
        "colab_type": "text"
      },
      "source": [
        "<a href=\"https://colab.research.google.com/github/Azmathulla1312/Enhancing-Road-safety-AI/blob/main/Ehancing_road_safety_with_AI_driven_traffic_acciendent_analysis.ipynb\" target=\"_parent\"><img src=\"https://colab.research.google.com/assets/colab-badge.svg\" alt=\"Open In Colab\"/></a>"
      ]
    },
    {
      "cell_type": "code",
      "execution_count": null,
      "metadata": {
        "id": "2PJ4EwhMd7zz"
      },
      "outputs": [],
      "source": [
        "import pandas as pd\n",
        "import numpy as np\n",
        "from sklearn.model_selection import train_test_split\n",
        "from sklearn.preprocessing import StandardScaler\n",
        "from sklearn.ensemble import RandomForestClassifier\n",
        "from sklearn.metrics import accuracy_score, classification_report, confusion_matrix\n",
        "import matplotlib.pyplot as plt\n",
        "import seaborn as sns\n",
        "\n",
        "# 1. Load and inspect data\n",
        "data = pd.read_csv('traffic_accidents.csv')\n",
        "print(data.head())\n",
        "\n",
        "# 2. Preprocess the data (handling missing values, encoding, etc.)\n",
        "data.dropna(inplace=True)  # Remove rows with missing data\n",
        "\n",
        "# Convert categorical data to numerical (for example, 'Weather' could be categorical)\n",
        "data['Weather'] = data['Weather'].map({'Clear': 0, 'Rain': 1, 'Snow': 2, 'Fog': 3})  # Example\n",
        "\n",
        "# Select features and target variable\n",
        "features = ['Time', 'Location', 'Weather', 'Traffic_Volume', 'Road_Type']\n",
        "target = 'Accident_Severity'  # Example: Severity can be a classification (e.g., 0 = Minor, 1 = Severe)\n",
        "\n",
        "X = data[features]\n",
        "y = data[target]\n",
        "\n",
        "# 3. Split the data into training and testing sets\n",
        "X_train, X_test, y_train, y_test = train_test_split(X, y, test_size=0.2, random_state=42)\n",
        "\n",
        "# 4. Normalize the data (Standardize features)\n",
        "scaler = StandardScaler()\n",
        "X_train_scaled = scaler.fit_transform(X_train)\n",
        "X_test_scaled = scaler.transform(X_test)\n",
        "\n",
        "# 5. Train a Random Forest Classifier (or any other model)\n",
        "model = RandomForestClassifier(n_estimators=100, random_state=42)\n",
        "model.fit(X_train_scaled, y_train)\n",
        "\n",
        "# 6. Predictions and Model Evaluation\n",
        "y_pred = model.predict(X_test_scaled)\n",
        "\n",
        "# Evaluate the model\n",
        "print(\"Accuracy:\", accuracy_score(y_test, y_pred))\n",
        "print(\"Classification Report:\\n\", classification_report(y_test, y_pred))\n",
        "print(\"Confusion Matrix:\\n\", confusion_matrix(y_test, y_pred))\n",
        "\n",
        "# 7. Visualizing the confusion matrix\n",
        "sns.heatmap(confusion_matrix(y_test, y_pred), annot=True, fmt='d', cmap='Blues', xticklabels=['Minor', 'Severe'], yticklabels=['Minor', 'Severe'])\n",
        "plt.title(\"Confusion Matrix - Accident Severity Prediction\")\n",
        "plt.ylabel(\"Actual\")\n",
        "plt.xlabel(\"Predicted\")\n",
        "plt.show()\n",
        "\n",
        "# 8. Accident Hotspot Visualization (Optional - can use geographic data for this)\n",
        "# If you have latitude and longitude in your dataset, we can use geospatial plotting\n",
        "# For simplicity, this is an example with random data:\n",
        "accident_map = data[['Latitude', 'Longitude']]\n",
        "plt.figure(figsize=(10, 8))\n",
        "plt.scatter(accident_map['Longitude'], accident_map['Latitude'], c='red', alpha=0.5, s=10)\n",
        "plt.title(\"Accident Hotspots\")\n",
        "plt.xlabel(\"Longitude\")\n",
        "plt.ylabel(\"Latitude\")\n",
        "plt.show()\n"
      ]
    }
  ]
}