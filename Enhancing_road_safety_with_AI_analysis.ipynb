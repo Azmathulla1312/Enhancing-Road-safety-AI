{
  "nbformat": 4,
  "nbformat_minor": 0,
  "metadata": {
    "colab": {
      "provenance": [],
      "authorship_tag": "ABX9TyPD2zT5mYonOUeEmAVTs4To",
      "include_colab_link": true
    },
    "kernelspec": {
      "name": "python3",
      "display_name": "Python 3"
    },
    "language_info": {
      "name": "python"
    }
  },
  "cells": [
    {
      "cell_type": "markdown",
      "metadata": {
        "id": "view-in-github",
        "colab_type": "text"
      },
      "source": [
        "<a href=\"https://colab.research.google.com/github/Azmathulla1312/Enhancing-Road-safety-AI/blob/main/Enhancing_road_safety_with_AI_analysis.ipynb\" target=\"_parent\"><img src=\"https://colab.research.google.com/assets/colab-badge.svg\" alt=\"Open In Colab\"/></a>"
      ]
    },
    {
      "cell_type": "code",
      "execution_count": null,
      "metadata": {
        "id": "qG2_OgvMgc19"
      },
      "outputs": [],
      "source": []
    },
    {
      "cell_type": "code",
      "source": [
        "import cv2\n",
        "\n",
        "# Initialize the HOG descriptor/person detector\n",
        "hog = cv2.HOGDescriptor()\n",
        "hog.setSVMDetector(cv2.HOGDescriptor_getDefaultPeopleDetector())\n",
        "\n",
        "# Start the webcam\n",
        "cap = cv2.VideoCapture(0)\n",
        "\n",
        "print(\"Press 'q' to exit.\")\n",
        "\n",
        "while True:\n",
        "    ret, frame = cap.read()\n",
        "    if not ret:\n",
        "        break\n",
        "\n",
        "    # Resize the frame to improve processing speed\n",
        "    frame = cv2.resize(frame, (640, 480))\n",
        "\n",
        "    # Detect people in the frame\n",
        "    boxes, weights = hog.detectMultiScale(frame, winStride=(8, 8))\n",
        "\n",
        "    # Draw bounding boxes around detected people\n",
        "    for (x, y, w, h) in boxes:\n",
        "        cv2.rectangle(frame, (x, y), (x + w, y + h), (0, 255, 0), 2)\n",
        "\n",
        "    cv2.imshow('Pedestrian Detection', frame)\n",
        "\n",
        "    # Break the loop with 'q' key\n",
        "    if cv2.waitKey(1) & 0xFF == ord('q'):\n",
        "        break\n",
        "\n",
        "cap.release()\n",
        "cv2.destroyAllWindows()\n"
      ],
      "metadata": {
        "id": "WpORTCfakl2T"
      },
      "execution_count": null,
      "outputs": []
    }
  ]
}